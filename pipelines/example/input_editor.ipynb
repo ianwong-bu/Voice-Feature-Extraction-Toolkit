{
 "cells": [
  {
   "cell_type": "code",
   "execution_count": 1,
   "metadata": {},
   "outputs": [
    {
     "name": "stdout",
     "output_type": "stream",
     "text": [
      "error: no audio dir in .\n",
      "error: no audio dir in .\\input\n"
     ]
    }
   ],
   "source": [
    "# in the amicorpus folder, each subfolder, has a subfolder called audio, and 1 wav file. Move every wav file into input\n",
    "import os\n",
    "import shutil\n",
    "\n",
    "for root, dirs, files in os.walk('.'):\n",
    "    if 'audio' in dirs:\n",
    "        audio_dir = os.path.join(root, 'audio')\n",
    "        wav_files = [f for f in os.listdir(audio_dir) if f.endswith('.wav')]\n",
    "        if len(wav_files) == 1:\n",
    "            wav_file = wav_files[0]\n",
    "            shutil.move(os.path.join(audio_dir, wav_file), 'input')\n",
    "            print(f'moved {wav_file}')\n",
    "        else:\n",
    "            print(f'error: {len(wav_files)} wav files in {audio_dir}')\n",
    "    else:\n",
    "        print(f'error: no audio dir in {root}')"
   ]
  },
  {
   "cell_type": "code",
   "execution_count": 2,
   "metadata": {},
   "outputs": [
    {
     "name": "stdout",
     "output_type": "stream",
     "text": [
      "Processed: first_ten_Sample_HV_Clip.wav\n",
      "All files have been standardized.\n"
     ]
    }
   ],
   "source": [
    "import os\n",
    "from pydub import AudioSegment\n",
    "\n",
    "input_dir = 'input'\n",
    "output_dir = 'standardized'\n",
    "\n",
    "# Create output directory if it doesn't exist\n",
    "os.makedirs(output_dir, exist_ok=True)\n",
    "\n",
    "# Define target parameters\n",
    "target_sample_rate = 44100  # 44.1 kHz\n",
    "target_channels = 1  # Mono\n",
    "target_bit_depth = 16  # 16-bit\n",
    "\n",
    "for filename in os.listdir(input_dir):\n",
    "    if filename.endswith('.wav'):\n",
    "        input_path = os.path.join(input_dir, filename)\n",
    "        output_path = os.path.join(output_dir, filename)\n",
    "\n",
    "        # Load the audio file\n",
    "        audio = AudioSegment.from_wav(input_path)\n",
    "\n",
    "        # Standardize sample rate\n",
    "        if audio.frame_rate != target_sample_rate:\n",
    "            audio = audio.set_frame_rate(target_sample_rate)\n",
    "\n",
    "        # Standardize channels (convert to mono if stereo)\n",
    "        if audio.channels != target_channels:\n",
    "            audio = audio.set_channels(target_channels)\n",
    "\n",
    "        # Standardize bit depth\n",
    "        if audio.sample_width != target_bit_depth // 8:\n",
    "            audio = audio.set_sample_width(target_bit_depth // 8)\n",
    "\n",
    "        # Export the standardized audio\n",
    "        audio.export(output_path, format='wav')\n",
    "\n",
    "        print(f'Processed: {filename}')\n",
    "\n",
    "print('All files have been standardized.')"
   ]
  }
 ],
 "metadata": {
  "kernelspec": {
   "display_name": "myenv",
   "language": "python",
   "name": "python3"
  },
  "language_info": {
   "codemirror_mode": {
    "name": "ipython",
    "version": 3
   },
   "file_extension": ".py",
   "mimetype": "text/x-python",
   "name": "python",
   "nbconvert_exporter": "python",
   "pygments_lexer": "ipython3",
   "version": "3.9.13"
  }
 },
 "nbformat": 4,
 "nbformat_minor": 2
}
